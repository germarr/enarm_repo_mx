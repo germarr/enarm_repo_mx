{
 "cells": [
  {
   "cell_type": "code",
   "execution_count": 5,
   "id": "ed620293",
   "metadata": {},
   "outputs": [],
   "source": [
    "import pandas as pd\n",
    "import duckdb\n",
    "import os\n",
    "\n",
    "import requests\n",
    "import json\n",
    "from datetime import datetime\n",
    "import time\n",
    "import pytz\n",
    "import re\n",
    "\n",
    "from typing import Optional\n",
    "import uuid as uuid_pkg\n",
    "\n",
    "from sqlmodel import SQLModel, Field, Session, create_engine, select\n",
    "from typing import Optional\n",
    "\n",
    "from unidecode import unidecode\n",
    "import os"
   ]
  },
  {
   "cell_type": "code",
   "execution_count": 3,
   "id": "46ae503e",
   "metadata": {},
   "outputs": [],
   "source": [
    "class ENARMResult(SQLModel, table=True):\n",
    "    __tablename__ = \"enarm_results\"  # Optional, you can omit if you want table name to match class name automatically\n",
    "\n",
    "    id: Optional[int] = Field(default=None, primary_key=True)\n",
    "    estado: Optional[str]\n",
    "    facultad: Optional[str]\n",
    "    sustentante: Optional[int]\n",
    "    seleccionado: Optional[int]\n",
    "    promedio: Optional[str]\n",
    "    acceptance_rate: Optional[float]\n",
    "    date_id: Optional[str]\n",
    "    year: Optional[str]\n",
    "    acceptance_rate_plus_1_std: Optional[float]\n",
    "    acceptance_rate_minus_1_std: Optional[float]\n",
    "    z_index: Optional[float]\n",
    "    estado_id: Optional[str]\n",
    "    school_id: Optional[str]"
   ]
  },
  {
   "cell_type": "code",
   "execution_count": 9,
   "id": "300a9a80",
   "metadata": {},
   "outputs": [],
   "source": [
    "# files = os.listdir('data')\n",
    "# files = sorted([f for f in files if f.endswith('.csv')])[1:]\n",
    "# files = sorted(files, reverse=True)\n",
    "\n",
    "base_url = \"https://videostostore.blob.core.windows.net/enarmapp\"\n",
    "base_list = ['enarm_2013.csv','enarm_2014.csv','enarm_2015.csv','enarm_2016.csv','enarm_2017.csv','enarm_2018.csv',\n",
    "             'enarm_2019.csv','enarm_2020.csv','enarm_2021.csv','enarm_2022.csv','enarm_2023.csv','enarm_2024.csv']"
   ]
  },
  {
   "cell_type": "code",
   "execution_count": 10,
   "id": "c9f46b35",
   "metadata": {},
   "outputs": [],
   "source": [
    "def clean_string(s):\n",
    "    # Convert to lowercase\n",
    "    s = s.lower()\n",
    "    # Replace spaces with underscores\n",
    "    s = s.replace(\" \", \"_\")\n",
    "    # Remove special characters\n",
    "    s = ''.join(e for e in s if e.isalnum() or e == '_')\n",
    "    # Replace accented characters\n",
    "    accents = {\n",
    "        'á': 'a', 'é': 'e', 'í': 'i', 'ó': 'o', 'ú': 'u',\n",
    "        'Á': 'a', 'É': 'e', 'Í': 'i', 'Ó': 'o', 'Ú': 'u',\n",
    "        'ñ': 'n', 'Ñ': 'n'\n",
    "    }\n",
    "    for accent, replacement in accents.items():\n",
    "        s = s.replace(accent, replacement)\n",
    "    return s\n",
    "\n",
    "listOfDates = [i.split(\".\")[0] for i in base_list]\n",
    "\n",
    "procc_list = []\n",
    "\n",
    "for index_file, read_file in enumerate(base_list):\n",
    "    # print(listOfDates[index_file])\n",
    "    # print(read_file)\n",
    "    procc_file = duckdb.sql(f\"\"\"\n",
    "            WITH base as (SELECT \n",
    "            CASE WHEN \"Entidad Federativa\" = 'DISTRITO FEDERAL' THEN 'CIUDAD DE MÉXICO' ELSE \"Entidad Federativa\" END as estado,\n",
    "            \"Facultad o Escuela de Medicina\" as facultad,\n",
    "            \"Sustentante\" as sustentante,\n",
    "            \"Seleccionado\" as seleccionado,\n",
    "            \"Promedio General de Conocimientos Médicos\" as promedio,\n",
    "            ROUND((\"Seleccionado\"::INTEGER / \"Sustentante\"::INTEGER) * 100,2) as acceptance_rate,\n",
    "            '{listOfDates[index_file]}' as date_id,\n",
    "            '{listOfDates[index_file].split('_')[1]}' as year,\n",
    "            FROM read_csv('{base_url}/{read_file}') WHERE \"Sustentante\" > 0 ),\n",
    "            stats AS (\n",
    "                SELECT \n",
    "                    AVG(acceptance_rate) AS mean_rate, \n",
    "                    STDDEV(acceptance_rate) AS stddev_rate \n",
    "                FROM base\n",
    "            ),\n",
    "            enhanced AS (\n",
    "                SELECT *,\n",
    "                    mean_rate,\n",
    "                    stddev_rate,\n",
    "                    ROUND(acceptance_rate + stddev_rate,2) AS acceptance_rate_plus_1_std,\n",
    "                    ROUND(acceptance_rate - stddev_rate,2) AS acceptance_rate_minus_1_std,\n",
    "                    ROUND((acceptance_rate - mean_rate) / stddev_rate,2) AS z_index\n",
    "                FROM base, stats\n",
    "            )\n",
    "            SELECT * EXCLUDE (mean_rate,mean_rate_1,stddev_rate_1, stddev_rate)\n",
    "            FROM enhanced \n",
    "        \"\"\").df()\n",
    "    \n",
    "    procc_list.append(procc_file)\n",
    "\n",
    "dataframe_full = pd.concat(procc_list, ignore_index=True)\n",
    "\n",
    "## On the column estado in the dataframe_full if there are None values replace them with the string \"Otro\"\n",
    "dataframe_full['estado'] = dataframe_full['estado'].fillna('OTRA')\n",
    "dataframe_full['estado_id'] = dataframe_full['estado'].apply(clean_string)\n",
    "dataframe_full['school_id'] = dataframe_full['facultad'].apply(clean_string)\n",
    "\n",
    "dataframe_full['sustentante'] = dataframe_full['sustentante'].fillna(0)\n",
    "dataframe_full['sustentante'] = dataframe_full['sustentante'].astype(int)\n",
    "dataframe_full['seleccionado'] = dataframe_full['seleccionado'].fillna(0)\n",
    "dataframe_full['seleccionado'] = dataframe_full['seleccionado'].astype(int)"
   ]
  },
  {
   "cell_type": "code",
   "execution_count": null,
   "id": "d3b72a93",
   "metadata": {},
   "outputs": [],
   "source": [
    "duckdb.sql(\"\"\" SELECT * FROM dataframe_full WHERE school_id = 'inst_tecnologico_est_sup_mty__campus_jalisco'\"\"\")"
   ]
  },
  {
   "cell_type": "code",
   "execution_count": 15,
   "id": "0d3b848a",
   "metadata": {},
   "outputs": [
    {
     "data": {
      "text/plain": [
       "┌─────────────────┬─────────────────────────────────┬─────────────┬──────────────┬──────────┬─────────────────┬────────────┬─────────┬────────────────────────────┬─────────────────────────────┬─────────┬─────────────────┬───────────────────────────┐\n",
       "│     estado      │            facultad             │ sustentante │ seleccionado │ promedio │ acceptance_rate │  date_id   │  year   │ acceptance_rate_plus_1_std │ acceptance_rate_minus_1_std │ z_index │    estado_id    │         school_id         │\n",
       "│     varchar     │             varchar             │    int64    │    int64     │  double  │     double      │  varchar   │ varchar │           double           │           double            │ double  │     varchar     │          varchar          │\n",
       "├─────────────────┼─────────────────────────────────┼─────────────┼──────────────┼──────────┼─────────────────┼────────────┼─────────┼────────────────────────────┼─────────────────────────────┼─────────┼─────────────────┼───────────────────────────┤\n",
       "│ BAJA CALIFORNIA │ UNIV. AUT. DE B.C., U. MEXICALI │         215 │          120 │  59.0192 │           55.81 │ enarm_2024 │ 2024    │                      69.05 │                       42.57 │    1.69 │ baja_california │ univ_aut_de_bc_u_mexicali │\n",
       "│ BAJA CALIFORNIA │ UNIV. AUT. DE B.C., U. MEXICALI │         207 │          116 │  60.2234 │           56.04 │ enarm_2023 │ 2023    │                      68.78 │                        43.3 │    1.16 │ baja_california │ univ_aut_de_bc_u_mexicali │\n",
       "│ BAJA CALIFORNIA │ UNIV. AUT. DE B.C., U. MEXICALI │         223 │          123 │    58.24 │           55.16 │ enarm_2022 │ 2022    │                      68.34 │                       41.98 │    0.93 │ baja_california │ univ_aut_de_bc_u_mexicali │\n",
       "│ BAJA CALIFORNIA │ UNIV. AUT. DE B.C., U. MEXICALI │         270 │          159 │    60.52 │           58.89 │ enarm_2021 │ 2021    │                      74.56 │                       43.22 │    1.42 │ baja_california │ univ_aut_de_bc_u_mexicali │\n",
       "│ BAJA CALIFORNIA │ UNIV. AUT. DE BC, U. MEXICALI   │         253 │          131 │    62.32 │           51.78 │ enarm_2020 │ 2020    │                     129.31 │                      -25.75 │    0.09 │ baja_california │ univ_aut_de_bc_u_mexicali │\n",
       "│ BAJA CALIFORNIA │ UNIV. AUT. DE B.C., U. MEXICALI │         288 │          120 │   65.865 │           41.67 │ enarm_2019 │ 2019    │                      54.07 │                       29.27 │    1.64 │ baja_california │ univ_aut_de_bc_u_mexicali │\n",
       "│ BAJA CALIFORNIA │ UNIV. AUT. DE B.C., U. MEXICALI │         283 │          105 │    67.95 │            37.1 │ enarm_2018 │ 2018    │                      47.21 │                       26.99 │    1.81 │ baja_california │ univ_aut_de_bc_u_mexicali │\n",
       "│ BAJA CALIFORNIA │ UNIV. AUT. DE B.C., U. MEXICALI │         253 │          103 │    68.87 │           40.71 │ enarm_2017 │ 2017    │                      52.28 │                       29.14 │    1.73 │ baja_california │ univ_aut_de_bc_u_mexicali │\n",
       "│ BAJA CALIFORNIA │ UNIV. AUT. DE B.C., U. MEXICALI │         249 │           96 │   66.177 │           38.55 │ enarm_2016 │ 2016    │                      49.92 │                       27.18 │    1.51 │ baja_california │ univ_aut_de_bc_u_mexicali │\n",
       "│ BAJA CALIFORNIA │ UNIV. AUT. DE B.C., U. MEXICALI │         242 │           95 │   65.275 │           39.26 │ enarm_2015 │ 2015    │                      55.32 │                        23.2 │    1.05 │ baja_california │ univ_aut_de_bc_u_mexicali │\n",
       "│ BAJA CALIFORNIA │ UNIV. AUT. DE B.C., U. MEXICALI │         201 │           75 │   65.535 │           37.31 │ enarm_2014 │ 2014    │                      50.09 │                       24.53 │     1.0 │ baja_california │ univ_aut_de_bc_u_mexicali │\n",
       "│ BAJA CALIFORNIA │ UNIV. AUT. DE B.C., U. MEXICALI │         144 │           61 │   65.105 │           42.36 │ enarm_2013 │ 2013    │                      58.29 │                       26.43 │    0.87 │ baja_california │ univ_aut_de_bc_u_mexicali │\n",
       "├─────────────────┴─────────────────────────────────┴─────────────┴──────────────┴──────────┴─────────────────┴────────────┴─────────┴────────────────────────────┴─────────────────────────────┴─────────┴─────────────────┴───────────────────────────┤\n",
       "│ 12 rows                                                                                                                                                                                                                                    13 columns │\n",
       "└───────────────────────────────────────────────────────────────────────────────────────────────────────────────────────────────────────────────────────────────────────────────────────────────────────────────────────────────────────────────────────┘"
      ]
     },
     "execution_count": 15,
     "metadata": {},
     "output_type": "execute_result"
    }
   ],
   "source": [
    "duckdb.sql(\"\"\" SELECT * FROM dataframe_full WHERE school_id = 'univ_aut_de_bc_u_mexicali'\"\"\")"
   ]
  },
  {
   "cell_type": "code",
   "execution_count": 16,
   "id": "4cdff21e",
   "metadata": {},
   "outputs": [
    {
     "data": {
      "text/plain": [
       "┌──────────────────┬───────────────────────────────────────────────────┬─────────────┬──────────────┬──────────┬─────────────────┬────────────┬─────────┬────────────────────────────┬─────────────────────────────┬─────────┬──────────────────┬──────────────────────────────────────────────┐\n",
       "│      estado      │                     facultad                      │ sustentante │ seleccionado │ promedio │ acceptance_rate │  date_id   │  year   │ acceptance_rate_plus_1_std │ acceptance_rate_minus_1_std │ z_index │    estado_id     │                  school_id                   │\n",
       "│     varchar      │                      varchar                      │    int64    │    int64     │  double  │     double      │  varchar   │ varchar │           double           │           double            │ double  │     varchar      │                   varchar                    │\n",
       "├──────────────────┼───────────────────────────────────────────────────┼─────────────┼──────────────┼──────────┼─────────────────┼────────────┼─────────┼────────────────────────────┼─────────────────────────────┼─────────┼──────────────────┼──────────────────────────────────────────────┤\n",
       "│ JALISCO          │ INST. TECNOLÓGICO EST. SUP. MTY. - CAMPUS JALISCO │          45 │           37 │  67.8661 │           82.22 │ enarm_2024 │ 2024    │                      95.46 │                       68.98 │    3.69 │ jalisco          │ inst_tecnologico_est_sup_mty__campus_jalisco │\n",
       "│ CIUDAD DE MÉXICO │ UNIV. PANAMERICANA                                │          49 │           38 │   68.405 │           77.55 │ enarm_2024 │ 2024    │                      90.79 │                       64.31 │    3.33 │ ciudad_de_mexico │ univ_panamericana                            │\n",
       "│ CIUDAD DE MÉXICO │ INST. TECNOLÓGICO EST. SUP. MTY. - CAMPUS CDMX    │          66 │           49 │   63.712 │           74.24 │ enarm_2024 │ 2024    │                      87.48 │                        61.0 │    3.09 │ ciudad_de_mexico │ inst_tecnologico_est_sup_mty__campus_cdmx    │\n",
       "│ NUEVO LEÓN       │ INST. TECNOLÓGICO EST. SUP. MTY. - CAMPUS MTY     │         197 │          128 │  63.0658 │           64.97 │ enarm_2024 │ 2024    │                      78.21 │                       51.73 │    2.39 │ nuevo_leon       │ inst_tecnologico_est_sup_mty__campus_mty     │\n",
       "│ SAN LUIS POTOSÍ  │ UNIV. AUT. DE SAN LUIS POTOSI                     │         221 │          143 │  62.4154 │           64.71 │ enarm_2024 │ 2024    │                      77.95 │                       51.47 │    2.37 │ san_luis_potosi  │ univ_aut_de_san_luis_potosi                  │\n",
       "│ CIUDAD DE MÉXICO │ UNIV. LA SALLE                                    │         301 │          177 │  61.2999 │            58.8 │ enarm_2024 │ 2024    │                      72.04 │                       45.56 │    1.92 │ ciudad_de_mexico │ univ_la_salle                                │\n",
       "│ AGUASCALIENTES   │ UNIV. AUT. DE AGUASCALIENTES                      │         287 │          168 │  59.7014 │           58.54 │ enarm_2024 │ 2024    │                      71.78 │                        45.3 │     1.9 │ aguascalientes   │ univ_aut_de_aguascalientes                   │\n",
       "│ NUEVO LEÓN       │ UNIV. AUT. DE NUEVO LEÓN                          │        1376 │          795 │  59.9998 │           57.78 │ enarm_2024 │ 2024    │                      71.02 │                       44.54 │    1.84 │ nuevo_leon       │ univ_aut_de_nuevo_leon                       │\n",
       "│ GUANAJUATO       │ UNIV. DE GUANAJUATO                               │         300 │          168 │  59.5661 │            56.0 │ enarm_2024 │ 2024    │                      69.24 │                       42.76 │    1.71 │ guanajuato       │ univ_de_guanajuato                           │\n",
       "│ BAJA CALIFORNIA  │ UNIV. AUT. DE B.C., U. MEXICALI                   │         215 │          120 │  59.0192 │           55.81 │ enarm_2024 │ 2024    │                      69.05 │                       42.57 │    1.69 │ baja_california  │ univ_aut_de_bc_u_mexicali                    │\n",
       "├──────────────────┴───────────────────────────────────────────────────┴─────────────┴──────────────┴──────────┴─────────────────┴────────────┴─────────┴────────────────────────────┴─────────────────────────────┴─────────┴──────────────────┴──────────────────────────────────────────────┤\n",
       "│ 10 rows                                                                                                                                                                                                                                                                           13 columns │\n",
       "└──────────────────────────────────────────────────────────────────────────────────────────────────────────────────────────────────────────────────────────────────────────────────────────────────────────────────────────────────────────────────────────────────────────────────────────────┘"
      ]
     },
     "execution_count": 16,
     "metadata": {},
     "output_type": "execute_result"
    }
   ],
   "source": [
    "duckdb.sql(\"\"\" SELECT * FROM dataframe_full WHERE date_id = 'enarm_2024' ORDER BY z_index DESC LIMIT 10\"\"\")"
   ]
  },
  {
   "cell_type": "code",
   "execution_count": 11,
   "id": "bc49c0b3",
   "metadata": {},
   "outputs": [],
   "source": [
    "def insert_schools_data(df: pd.DataFrame, class_i=None, duckdb_table: str = \"dim_schools\",duckdb_path:str=\"/Users/gerardomartinez/Documents/production/enarm/frontend/src/data/enarm.duckdb\"):\n",
    "    \"\"\"Convert a pandas DataFrame into a a list of SQLModel objects.\"\"\"\n",
    "    \n",
    "    data = [class_i(**row) for row in df.to_dict('records')]\n",
    "\n",
    "    # Insert into DuckDB\n",
    "    with duckdb.connect(duckdb_path) as con:\n",
    "        # Create or replace table in DuckDB\n",
    "        con.execute(f\"CREATE TABLE IF NOT EXISTS {duckdb_table} AS SELECT * FROM df LIMIT 0\")  # Create with structure only\n",
    "        con.execute(f\"INSERT INTO {duckdb_table} SELECT * FROM df\")\n",
    "        con.close()\n",
    "    \n",
    "    print(\"\")\n",
    "    print(f\"Inserted {len(data)} shows into the database.\")"
   ]
  },
  {
   "cell_type": "code",
   "execution_count": 13,
   "id": "1bf2af48",
   "metadata": {},
   "outputs": [
    {
     "name": "stdout",
     "output_type": "stream",
     "text": [
      "\n",
      "Inserted 1482 shows into the database.\n"
     ]
    }
   ],
   "source": [
    "insert_schools_data(df=dataframe_full, class_i=ENARMResult, duckdb_table=\"enarm_results\", duckdb_path=\"C:/Users/gerym/Documents/Projects/enarm_repo_mx/frontend/src/data/enarm.duckdb\")"
   ]
  },
  {
   "cell_type": "code",
   "execution_count": 12,
   "id": "16e99f23",
   "metadata": {},
   "outputs": [
    {
     "name": "stdout",
     "output_type": "stream",
     "text": [
      "Table 'enarm_results' has been deleted from the database at 'C:/Users/gerym/Documents/Projects/enarm_repo_mx/frontend/src/data/enarm.duckdb'.\n"
     ]
    }
   ],
   "source": [
    "def delete_table(duckdb_table: str, duckdb_path: str):\n",
    "    \"\"\"Delete a table from the DuckDB database.\"\"\"\n",
    "    with duckdb.connect(duckdb_path) as con:\n",
    "        con.execute(f\"DROP TABLE IF EXISTS {duckdb_table}\")\n",
    "        con.close()\n",
    "    print(f\"Table '{duckdb_table}' has been deleted from the database at '{duckdb_path}'.\")\n",
    "\n",
    "# Usage\n",
    "delete_table(duckdb_table=\"enarm_results\", duckdb_path=\"C:/Users/gerym/Documents/Projects/enarm_repo_mx/frontend/src/data/enarm.duckdb\")"
   ]
  },
  {
   "cell_type": "code",
   "execution_count": null,
   "id": "9dae6c49",
   "metadata": {},
   "outputs": [],
   "source": [
    "# Insert into DuckDB\n",
    "with duckdb.connect(duckdb_path) as con:\n",
    "    # Create or replace table in DuckDB\n",
    "    con.execute(f\"CREATE TABLE IF NOT EXISTS {duckdb_table} AS SELECT * FROM df LIMIT 0\")  # Create with structure only\n",
    "    con.execute(f\"INSERT INTO {duckdb_table} SELECT * FROM df\")\n",
    "    con.close()"
   ]
  },
  {
   "cell_type": "code",
   "execution_count": 17,
   "id": "dd964bc6",
   "metadata": {},
   "outputs": [
    {
     "data": {
      "text/plain": [
       "┌─────────────┬──────────────┬──────────┬─────────────────┬─────────┬─────────────────────────┬───────────┐\n",
       "│ sustentante │ seleccionado │ promedio │ acceptance_rate │  year   │        school_id        │ estado_id │\n",
       "│    int64    │    int64     │ varchar  │     double      │ varchar │         varchar         │  varchar  │\n",
       "├─────────────┼──────────────┼──────────┼─────────────────┼─────────┼─────────────────────────┼───────────┤\n",
       "│        1866 │          565 │ 53.7991  │           30.28 │ 2024    │ univ_aut_de_guadalajara │ jalisco   │\n",
       "│        1574 │          635 │ 56.3136  │           40.34 │ 2023    │ univ_aut_de_guadalajara │ jalisco   │\n",
       "│        1638 │          661 │ 55.36    │           40.35 │ 2022    │ univ_aut_de_guadalajara │ jalisco   │\n",
       "│        1917 │          700 │ 56.07    │           36.52 │ 2021    │ univ_aut_de_guadalajara │ jalisco   │\n",
       "│        1915 │          633 │ 58.51    │           33.05 │ 2020    │ univ_aut_de_guadalajara │ jalisco   │\n",
       "│        1803 │          349 │ 61.148   │           19.36 │ 2019    │ univ_aut_de_guadalajara │ jalisco   │\n",
       "│        1875 │          403 │ 63.7     │           21.49 │ 2018    │ univ_aut_de_guadalajara │ jalisco   │\n",
       "│        1744 │          416 │ 64.23    │           23.85 │ 2017    │ univ_aut_de_guadalajara │ jalisco   │\n",
       "│        1667 │          360 │ 62.25    │            21.6 │ 2016    │ univ_aut_de_guadalajara │ jalisco   │\n",
       "│        1681 │          369 │ 61.12    │           21.95 │ 2015    │ univ_aut_de_guadalajara │ jalisco   │\n",
       "│        1324 │          315 │ 61.762   │           23.79 │ 2014    │ univ_aut_de_guadalajara │ jalisco   │\n",
       "│        1105 │          332 │ 61.493   │           30.05 │ 2013    │ univ_aut_de_guadalajara │ jalisco   │\n",
       "├─────────────┴──────────────┴──────────┴─────────────────┴─────────┴─────────────────────────┴───────────┤\n",
       "│ 12 rows                                                                                       7 columns │\n",
       "└─────────────────────────────────────────────────────────────────────────────────────────────────────────┘"
      ]
     },
     "execution_count": 17,
     "metadata": {},
     "output_type": "execute_result"
    }
   ],
   "source": [
    "duckdb.sql(\"\"\"SELECT sustentante, seleccionado,\n",
    "           promedio, acceptance_rate,year,school_id,estado_id\n",
    "            FROM dataframe_full WHERE school_id = 'univ_aut_de_guadalajara'\"\"\")"
   ]
  },
  {
   "cell_type": "code",
   "execution_count": 13,
   "id": "f34fca66",
   "metadata": {},
   "outputs": [
    {
     "data": {
      "text/plain": [
       "┌──────────────────┬─────────────────────────────────────────────────┬─────────────┬──────────────┬──────────┬─────────────────┬────────────┬─────────┬────────────────────────────┬─────────────────────────────┬─────────┬──────────────────┬─────────────────────────────────────────────┐\n",
       "│      estado      │                    facultad                     │ sustentante │ seleccionado │ promedio │ acceptance_rate │  date_id   │  year   │ acceptance_rate_plus_1_std │ acceptance_rate_minus_1_std │ z_index │    estado_id     │                  school_id                  │\n",
       "│     varchar      │                     varchar                     │    int64    │    int64     │ varchar  │     double      │  varchar   │ varchar │           double           │           double            │ double  │     varchar      │                   varchar                   │\n",
       "├──────────────────┼─────────────────────────────────────────────────┼─────────────┼──────────────┼──────────┼─────────────────┼────────────┼─────────┼────────────────────────────┼─────────────────────────────┼─────────┼──────────────────┼─────────────────────────────────────────────┤\n",
       "│ CIUDAD DE MÉXICO │ UNAM FM CU                                      │        2338 │         1202 │ 57.9232  │           51.41 │ enarm_2024 │ 2024    │                      64.65 │                       38.17 │    1.36 │ ciudad_de_mexico │ unam_fm_cu                                  │\n",
       "│ NUEVO LEÓN       │ UNIV. AUT. DE NUEVO LEÓN                        │        1376 │          795 │ 59.9998  │           57.78 │ enarm_2024 │ 2024    │                      71.02 │                       44.54 │    1.84 │ nuevo_leon       │ univ_aut_de_nuevo_leon                      │\n",
       "│ CIUDAD DE MÉXICO │ IPN ESC .SUP. MEDICINA                          │        1472 │          658 │ 56.1613  │            44.7 │ enarm_2024 │ 2024    │                      57.94 │                       31.46 │    0.85 │ ciudad_de_mexico │ ipn_esc_sup_medicina                        │\n",
       "│ JALISCO          │ UNIV. DE GUADALAJARA                            │        1360 │          650 │ 57.661   │           47.79 │ enarm_2024 │ 2024    │                      61.03 │                       34.55 │    1.09 │ jalisco          │ univ_de_guadalajara                         │\n",
       "│ SINALOA          │ UNIV. AUT. DE SINALOA                           │        1811 │          639 │ 52.6884  │           35.28 │ enarm_2024 │ 2024    │                      48.52 │                       22.04 │    0.14 │ sinaloa          │ univ_aut_de_sinaloa                         │\n",
       "│ PUEBLA           │ B. UNIV. AUT. PUEBLA (PUEBLA)                   │        1632 │          633 │ 54.7071  │           38.79 │ enarm_2024 │ 2024    │                      52.03 │                       25.55 │    0.41 │ puebla           │ b_univ_aut_puebla_puebla                    │\n",
       "│ ESTADO DE MÉXICO │ UNAM FES IZTACALA                               │        1401 │          608 │ 55.6716  │            43.4 │ enarm_2024 │ 2024    │                      56.64 │                       30.16 │    0.76 │ estado_de_mexico │ unam_fes_iztacala                           │\n",
       "│ MICHOACÁN        │ UNIV. MICH. DE SAN NICOLÁS DE HIDALGO (MORELIA) │        1273 │          595 │ 55.3169  │           46.74 │ enarm_2024 │ 2024    │                      59.98 │                        33.5 │    1.01 │ michoacan        │ univ_mich_de_san_nicolas_de_hidalgo_morelia │\n",
       "│ JALISCO          │ UNIV. AUT. DE GUADALAJARA                       │        1866 │          565 │ 53.7991  │           30.28 │ enarm_2024 │ 2024    │                      43.52 │                       17.04 │   -0.23 │ jalisco          │ univ_aut_de_guadalajara                     │\n",
       "│ CIUDAD DE MÉXICO │ IPN ESC. NAL. MED. Y HOMEOPATÍA                 │        1174 │          441 │ 54.3621  │           37.56 │ enarm_2024 │ 2024    │                       50.8 │                       24.32 │    0.32 │ ciudad_de_mexico │ ipn_esc_nal_med_y_homeopatia                │\n",
       "├──────────────────┴─────────────────────────────────────────────────┴─────────────┴──────────────┴──────────┴─────────────────┴────────────┴─────────┴────────────────────────────┴─────────────────────────────┴─────────┴──────────────────┴─────────────────────────────────────────────┤\n",
       "│ 10 rows                                                                                                                                                                                                                                                                        13 columns │\n",
       "└───────────────────────────────────────────────────────────────────────────────────────────────────────────────────────────────────────────────────────────────────────────────────────────────────────────────────────────────────────────────────────────────────────────────────────────┘"
      ]
     },
     "execution_count": 13,
     "metadata": {},
     "output_type": "execute_result"
    }
   ],
   "source": [
    "### Selected by Volume \n",
    "duckdb.sql(\"\"\"FROM dataframe_full WHERE date_id = 'enarm_2024' ORDER BY seleccionado DESC LIMIT 10\"\"\")"
   ]
  },
  {
   "cell_type": "code",
   "execution_count": 22,
   "id": "1e2da31a",
   "metadata": {},
   "outputs": [],
   "source": [
    "min_max_yrs = os.listdir('C:/Users/gerym/Documents/Projects/enarm_repo_mx/data/puntajes_min_max')"
   ]
  },
  {
   "cell_type": "code",
   "execution_count": 23,
   "id": "df390e46",
   "metadata": {},
   "outputs": [
    {
     "name": "stdout",
     "output_type": "stream",
     "text": [
      "2012.csv 2013.csv 2014.csv 2015.csv 2016.csv 2017.csv 2018.csv 2019.csv 2020.csv 2021.csv 2022.csv 2023.csv 2024.csv "
     ]
    }
   ],
   "source": [
    "several_years = []\n",
    "\n",
    "for i in min_max_yrs:\n",
    "\n",
    "    a = duckdb.sql(f\"\"\"  \n",
    "    with base as (SELECT * EXCLUDE(\"Puntaje Mínimo\", \"Puntaje Máximo\"), '{i}' as year, \n",
    "    \"Puntaje Mínimo\" as puntaje_min, \"Puntaje Máximo\" as puntaje_max\n",
    "    FROM read_csv('./data/puntajes_min_max/{i}')\n",
    "    WHERE categoria = 'mexicana')\n",
    "\n",
    "    SELECT *, (puntaje_max - puntaje_min) as diff from base\n",
    "    \"\"\").df()\n",
    "    print(i, end=' ')\n",
    "    several_years.append(a)\n",
    "\n",
    "puntajes = pd.concat(several_years).reset_index(drop=True).copy()\n",
    "\n",
    "puntajes['especialidad_id'] = puntajes['ESPECIALIDAD'].apply(\n",
    "    lambda x: unidecode(x).lower().replace(' ', '_')\n",
    ")\n"
   ]
  },
  {
   "cell_type": "code",
   "execution_count": 24,
   "id": "f2bd0920",
   "metadata": {},
   "outputs": [],
   "source": [
    "min_dataframe = duckdb.sql(\"\"\"\n",
    "WITH base AS (\n",
    "    SELECT \n",
    "        * EXCLUDE(diff),\n",
    "        ROUND(AVG(puntaje_max) OVER (PARTITION BY especialidad_id), 2) AS avg_puntaje_max,\n",
    "        ROUND(AVG(puntaje_min) OVER (PARTITION BY especialidad_id), 2) AS avg_puntaje_min,\n",
    "        ROUND(STDDEV_SAMP(puntaje_max) OVER (PARTITION BY especialidad_id), 2) AS std_puntaje_max,\n",
    "        ROUND(STDDEV_SAMP(puntaje_min) OVER (PARTITION BY especialidad_id), 2) AS std_puntaje_min,\n",
    "        ROUND(diff, 2) AS diff\n",
    "    FROM puntajes\n",
    ")\n",
    "SELECT \n",
    "    especialidad_id, \n",
    "    year, \n",
    "    puntaje_min,\n",
    "    avg_puntaje_min,\n",
    "    avg_puntaje_min + std_puntaje_min AS std_puntaje_min_plus_1,\n",
    "    avg_puntaje_min - std_puntaje_min AS std_puntaje_min_minus_1,\n",
    "    puntaje_max,\n",
    "    avg_puntaje_max,\n",
    "    avg_puntaje_max + std_puntaje_max AS std_puntaje_max_plus_1,\n",
    "    avg_puntaje_max - std_puntaje_max AS std_puntaje_max_minus_1,\n",
    "    diff\n",
    "FROM base\n",
    "\"\"\").df()\n"
   ]
  },
  {
   "cell_type": "code",
   "execution_count": 26,
   "id": "307a7a93",
   "metadata": {},
   "outputs": [],
   "source": [
    "duckdb_path = \"C:/Users/gerym/Documents/Projects/enarm_repo_mx/frontend/src/data/enarm.duckdb\"\n",
    "\n",
    "# Insert into DuckDB\n",
    "with duckdb.connect(duckdb_path) as con:\n",
    "    # Create or replace table in DuckDB\n",
    "    con.execute(f\"CREATE TABLE IF NOT EXISTS enarm_min_max AS SELECT * FROM min_dataframe LIMIT 0\")  # Create with structure only\n",
    "    con.execute(f\"INSERT INTO enarm_min_max SELECT * FROM min_dataframe\")\n",
    "    con.close()"
   ]
  },
  {
   "cell_type": "code",
   "execution_count": 25,
   "id": "b0aeeb63",
   "metadata": {},
   "outputs": [],
   "source": [
    "\"\"\"Delete a table from the DuckDB database.\"\"\"\n",
    "with duckdb.connect(duckdb_path) as con:\n",
    "    con.execute(f\"DROP TABLE IF EXISTS enarm_min_max\")\n",
    "    con.close()\n"
   ]
  }
 ],
 "metadata": {
  "kernelspec": {
   "display_name": ".venv",
   "language": "python",
   "name": "python3"
  },
  "language_info": {
   "codemirror_mode": {
    "name": "ipython",
    "version": 3
   },
   "file_extension": ".py",
   "mimetype": "text/x-python",
   "name": "python",
   "nbconvert_exporter": "python",
   "pygments_lexer": "ipython3",
   "version": "3.13.3"
  }
 },
 "nbformat": 4,
 "nbformat_minor": 5
}
